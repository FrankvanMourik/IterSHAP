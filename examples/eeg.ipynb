{
 "cells": [
  {
   "attachments": {},
   "cell_type": "markdown",
   "metadata": {},
   "source": [
    "# EEG classification"
   ]
  },
  {
   "attachments": {},
   "cell_type": "markdown",
   "metadata": {},
   "source": [
    "## Imports"
   ]
  },
  {
   "cell_type": "code",
   "execution_count": 4,
   "metadata": {},
   "outputs": [],
   "source": [
    "import sys\n",
    "sys.path.append(\"../itershap\")\n",
    "\n",
    "import pandas as pd\n",
    "import numpy as np\n",
    "\n",
    "from sklearn.model_selection import train_test_split\n",
    "from sklearn.ensemble import RandomForestClassifier\n",
    "from sklearn.metrics import accuracy_score\n",
    "\n",
    "from itershap import IterSHAP"
   ]
  },
  {
   "attachments": {},
   "cell_type": "markdown",
   "metadata": {},
   "source": [
    "## Get EEG data"
   ]
  },
  {
   "cell_type": "code",
   "execution_count": 8,
   "metadata": {},
   "outputs": [],
   "source": [
    "eeg_columns = ['Coeffiecient of Variation','Mean of Vertex to Vertex Slope','Variance of Vertex to Vertex Slope',\n",
    "         'Hjorth_Activity','Hjorth_Mobility','Hjorth_Complexity',\n",
    "         'Kurtosis','2nd Difference Mean','2nd Difference Max',\n",
    "         'Skewness','1st Difference Mean','1st Difference Max',\n",
    "         'FFT Delta MaxPower','FFT Theta MaxPower','FFT Alpha MaxPower','FFT Beta MaxPower','Delta/Theta','Delta/Alpha','Theta/Alpha','(Delta+Theta)/Alpha',\n",
    "         '1Wavelet Approximate Mean', '1Wavelet Approximate Std Deviation', '1Wavelet Approximate Energy', '1Wavelet Detailed Mean', '1Wavelet Detailed Std Deviation', '1Wavelet Detailed Energy', '1Wavelet Approximate Entropy', '1Wavelet Detailed Entropy', '2Wavelet Approximate Mean', '2Wavelet Approximate Std Deviation', '2Wavelet Approximate Energy', '2Wavelet Detailed Mean', '2Wavelet Detailed Std Deviation', '2Wavelet Detailed Energy', '2Wavelet Approximate Entropy', '2Wavelet Detailed Entropy', '3Wavelet Approximate Mean', '3Wavelet Approximate Std Deviation', '3Wavelet Approximate Energy', '3Wavelet Detailed Mean', '3Wavelet Detailed Std Deviation', '3Wavelet Detailed Energy', '3Wavelet Approximate Entropy', '3Wavelet Detailed Entropy', '4Wavelet Approximate Mean', '4Wavelet Approximate Std Deviation', '4Wavelet Approximate Energy', '4Wavelet Detailed Mean', '4Wavelet Detailed Std Deviation', '4Wavelet Detailed Energy', '4Wavelet Approximate Entropy', '4Wavelet Detailed Entropy', '5Wavelet Approximate Mean', '5Wavelet Approximate Std Deviation', '5Wavelet Approximate Energy', '5Wavelet Detailed Mean', '5Wavelet Detailed Std Deviation', '5Wavelet Detailed Energy', '5Wavelet Approximate Entropy', '5Wavelet Detailed Entropy', '6Wavelet Approximate Mean', '6Wavelet Approximate Std Deviation', '6Wavelet Approximate Energy', '6Wavelet Detailed Mean', '6Wavelet Detailed Std Deviation', '6Wavelet Detailed Energy', '6Wavelet Approximate Entropy', '6Wavelet Detailed Entropy', '7Wavelet Approximate Mean', '7Wavelet Approximate Std Deviation', '7Wavelet Approximate Energy', '7Wavelet Detailed Mean', '7Wavelet Detailed Std Deviation', '7Wavelet Detailed Energy', '7Wavelet Approximate Entropy', '7Wavelet Detailed Entropy', '8Wavelet Approximate Mean', '8Wavelet Approximate Std Deviation', '8Wavelet Approximate Energy', '8Wavelet Detailed Mean', '8Wavelet Detailed Std Deviation', '8Wavelet Detailed Energy', '8Wavelet Approximate Entropy', '8Wavelet Detailed Entropy', '9Wavelet Approximate Mean', '9Wavelet Approximate Std Deviation', '9Wavelet Approximate Energy', '9Wavelet Detailed Mean', '9Wavelet Detailed Std Deviation', '9Wavelet Detailed Energy', '9Wavelet Approximate Entropy', '9Wavelet Detailed Entropy', '10Wavelet Approximate Mean', '10Wavelet Approximate Std Deviation', '10Wavelet Approximate Energy', '10Wavelet Detailed Mean', '10Wavelet Detailed Std Deviation', '10Wavelet Detailed Energy', '10Wavelet Approximate Entropy', '10Wavelet Detailed Entropy', '11Wavelet Approximate Mean', '11Wavelet Approximate Std Deviation', '11Wavelet Approximate Energy', '11Wavelet Detailed Mean', '11Wavelet Detailed Std Deviation', '11Wavelet Detailed Energy', '11Wavelet Approximate Entropy', '11Wavelet Detailed Entropy', '12Wavelet Approximate Mean', '12Wavelet Approximate Std Deviation', '12Wavelet Approximate Energy', '12Wavelet Detailed Mean', '12Wavelet Detailed Std Deviation', '12Wavelet Detailed Energy', '12Wavelet Approximate Entropy', '12Wavelet Detailed Entropy', '13Wavelet Approximate Mean', '13Wavelet Approximate Std Deviation', '13Wavelet Approximate Energy', '13Wavelet Detailed Mean', '13Wavelet Detailed Std Deviation', '13Wavelet Detailed Energy', '13Wavelet Approximate Entropy', '13Wavelet Detailed Entropy', '14Wavelet Approximate Mean', '14Wavelet Approximate Std Deviation', '14Wavelet Approximate Energy', '14Wavelet Detailed Mean', '14Wavelet Detailed Std Deviation', '14Wavelet Detailed Energy', '14Wavelet Approximate Entropy', '14Wavelet Detailed Entropy',\n",
    "         'AR1','AR2','AR3','AR4','AR5','AR6','AR7','AR8','AR9','AR10','AR11','AR12','AR13','AR14','AR15','AR16','AR17','AR18',\n",
    "         'AR19','AR20','AR21','AR22','AR23','AR24','AR25','AR26','AR27','AR28','AR29','AR30','AR31','AR32','AR33','AR34','AR35','AR36','AR37','AR38','AR39','AR40','AR41','AR42']\n",
    "\n",
    "\n",
    "# Data source: https://github.com/ivishalanand/Cognitive-Mental-Workload-Estimation-Using-ML\n",
    "def get_eeg_data(PERC_DP_USED):\n",
    "    filepath = \"../data/eeg/Normalizedfeatures.csv\"\n",
    "    f = open(filepath)\n",
    "    attributes=f.readline()\n",
    "    X = []\n",
    "    y = []\n",
    "    for line in f:\n",
    "        line = line.rstrip().split(',')\n",
    "        l = [float(i) for i in line]\n",
    "        X.append(l[:-1])\n",
    "        y.append(l[-1])\n",
    "\n",
    "    X = np.asarray(X)\n",
    "    y = np.asarray([round(k-1) for k in y])\n",
    "    X = pd.DataFrame(X, columns=eeg_columns)\n",
    "    if PERC_DP_USED < 1.0:\n",
    "      # If PERC_DP_USED == 1.0, then all DP will be used for the model\n",
    "      X, X_not_used, y, y_not_used = train_test_split(X, y, train_size=PERC_DP_USED, random_state=20)\n",
    "\n",
    "    return X, y\n",
    "\n",
    "# get_eeg_data(1.00)"
   ]
  },
  {
   "attachments": {},
   "cell_type": "markdown",
   "metadata": {},
   "source": [
    "## Run IterSHAP"
   ]
  },
  {
   "cell_type": "code",
   "execution_count": null,
   "metadata": {},
   "outputs": [],
   "source": [
    "PERC_DATA_USED = 0.01\n",
    "\n",
    "# Load data from the data folder\n",
    "X, y = get_eeg_data(PERC_DATA_USED)\n",
    "\n",
    "# Create a data copy to test model performance without feature selection \n",
    "X_without_fs = pd.DataFrame(X)\n",
    "\n",
    "# Check the current shape of the dataset\n",
    "print(X.shape)\n",
    "\n",
    "# Create and fit IterSHAP using a RandomForestClassifier (default)\n",
    "itershap_fs = IterSHAP()\n",
    "itershap_fs.fit(X, y)\n",
    "\n",
    "# Transform the input data to only include selected features and print its shape\n",
    "X = itershap_fs.transform()\n",
    "print(X.shape)"
   ]
  },
  {
   "attachments": {},
   "cell_type": "markdown",
   "metadata": {},
   "source": [
    "## Run model with and without feature selection"
   ]
  },
  {
   "attachments": {},
   "cell_type": "markdown",
   "metadata": {},
   "source": [
    "#### Without feature selection"
   ]
  },
  {
   "cell_type": "code",
   "execution_count": null,
   "metadata": {},
   "outputs": [],
   "source": [
    "X_train, X_test, y_train, y_test = train_test_split(X_without_fs, y, test_size=0.25)\n",
    "\n",
    "clf = RandomForestClassifier()\n",
    "clf.fit(X_train, y_train)\n",
    "y_pred = clf.predict(X_test)\n",
    "\n",
    "accuracy = accuracy_score(y_pred, y_test)\n",
    "print(accuracy)"
   ]
  },
  {
   "attachments": {},
   "cell_type": "markdown",
   "metadata": {},
   "source": [
    "#### With feature selection"
   ]
  },
  {
   "cell_type": "code",
   "execution_count": null,
   "metadata": {},
   "outputs": [],
   "source": [
    "X_train, X_test, y_train, y_test = train_test_split(X, y, test_size=0.25)\n",
    "\n",
    "clf = RandomForestClassifier()\n",
    "clf.fit(X_train, y_train)\n",
    "y_pred = clf.predict(X_test)\n",
    "\n",
    "accuracy = accuracy_score(y_pred, y_test)\n",
    "print(accuracy)"
   ]
  }
 ],
 "metadata": {
  "kernelspec": {
   "display_name": ".venv",
   "language": "python",
   "name": "python3"
  },
  "language_info": {
   "codemirror_mode": {
    "name": "ipython",
    "version": 3
   },
   "file_extension": ".py",
   "mimetype": "text/x-python",
   "name": "python",
   "nbconvert_exporter": "python",
   "pygments_lexer": "ipython3",
   "version": "3.10.10"
  },
  "orig_nbformat": 4
 },
 "nbformat": 4,
 "nbformat_minor": 2
}
