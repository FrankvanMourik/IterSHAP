{
 "cells": [
  {
   "attachments": {},
   "cell_type": "markdown",
   "metadata": {},
   "source": [
    "## Example case: breast-cancer classification"
   ]
  },
  {
   "attachments": {},
   "cell_type": "markdown",
   "metadata": {},
   "source": [
    "### Imports"
   ]
  },
  {
   "cell_type": "code",
   "execution_count": null,
   "metadata": {},
   "outputs": [],
   "source": [
    "import sys\n",
    "sys.path.append(\"../itershap\")\n",
    "\n",
    "import pandas as pd\n",
    "\n",
    "from sklearn.datasets import make_classification\n",
    "from sklearn.model_selection import train_test_split\n",
    "from sklearn.ensemble import RandomForestClassifier\n",
    "from sklearn.metrics import accuracy_score\n",
    "from sklearn.svm import SVC\n",
    "from itershap import IterSHAP"
   ]
  },
  {
   "attachments": {},
   "cell_type": "markdown",
   "metadata": {},
   "source": [
    "### Load data and apply IterSHAP feature selection"
   ]
  },
  {
   "cell_type": "code",
   "execution_count": null,
   "metadata": {},
   "outputs": [],
   "source": [
    "# Load data from SK Learn's datasets\n",
    "X, y = make_classification(300, 250, n_informative=20, shuffle=False)\n",
    "\n",
    "# Create a data copy to test model performance without feature selection \n",
    "X_without_fs = pd.DataFrame(X)\n",
    "# X = pd.DataFrame(X)\n",
    "\n",
    "# Check the current shape of the dataset\n",
    "print(X.shape)\n",
    "\n",
    "# Create and fit IterSHAP using a RandomForestClassifier\n",
    "itershap_fs = IterSHAP()\n",
    "itershap_fs.fit(X, y)\n",
    "\n",
    "print(f\"Column names of features in the best subset: {itershap_fs.best_subset}\")\n",
    "\n",
    "# Transform the input data to only include selected features and print its shape\n",
    "X = itershap_fs.transform(X)\n",
    "print(X.shape)"
   ]
  },
  {
   "attachments": {},
   "cell_type": "markdown",
   "metadata": {},
   "source": [
    "### Perform classification"
   ]
  },
  {
   "attachments": {},
   "cell_type": "markdown",
   "metadata": {},
   "source": [
    "#### Without feature selection"
   ]
  },
  {
   "cell_type": "code",
   "execution_count": null,
   "metadata": {},
   "outputs": [],
   "source": [
    "total_accuracy = 0\n",
    "ITERATIONS = 10\n",
    "for x in range(ITERATIONS):\n",
    "    X_train, X_test, y_train, y_test = train_test_split(X_without_fs, y, test_size=0.25)\n",
    "\n",
    "    clf = RandomForestClassifier()\n",
    "    clf.fit(X_train, y_train)\n",
    "    y_pred = clf.predict(X_test)\n",
    "\n",
    "    accuracy = accuracy_score(y_pred, y_test)\n",
    "    total_accuracy += accuracy\n",
    "\n",
    "avg_acc = total_accuracy / ITERATIONS\n",
    "print(F\"Average accuracy over {ITERATIONS} runs without feature selection: \\t{round(avg_acc,3)}\")"
   ]
  },
  {
   "attachments": {},
   "cell_type": "markdown",
   "metadata": {},
   "source": [
    "#### With feature selection"
   ]
  },
  {
   "cell_type": "code",
   "execution_count": null,
   "metadata": {},
   "outputs": [],
   "source": [
    "total_accuracy = 0\n",
    "ITERATIONS = 10\n",
    "for x in range(ITERATIONS):\n",
    "    X_train, X_test, y_train, y_test = train_test_split(X, y, test_size=0.25)\n",
    "\n",
    "    clf = RandomForestClassifier()\n",
    "    clf.fit(X_train, y_train)\n",
    "    y_pred = clf.predict(X_test)\n",
    "\n",
    "    accuracy = accuracy_score(y_pred, y_test)\n",
    "    total_accuracy += accuracy\n",
    "\n",
    "avg_acc = total_accuracy / ITERATIONS\n",
    "print(F\"Average accuracy over {ITERATIONS} runs with feature selection: \\t{round(avg_acc,3)}\")"
   ]
  }
 ],
 "metadata": {
  "kernelspec": {
   "display_name": ".venv",
   "language": "python",
   "name": "python3"
  },
  "language_info": {
   "codemirror_mode": {
    "name": "ipython",
    "version": 3
   },
   "file_extension": ".py",
   "mimetype": "text/x-python",
   "name": "python",
   "nbconvert_exporter": "python",
   "pygments_lexer": "ipython3",
   "version": "3.10.10"
  },
  "orig_nbformat": 4
 },
 "nbformat": 4,
 "nbformat_minor": 2
}
