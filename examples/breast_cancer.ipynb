{
 "cells": [
  {
   "attachments": {},
   "cell_type": "markdown",
   "metadata": {},
   "source": [
    "## Example case: breast-cancer classification"
   ]
  },
  {
   "attachments": {},
   "cell_type": "markdown",
   "metadata": {},
   "source": [
    "### Imports"
   ]
  },
  {
   "cell_type": "code",
   "execution_count": 2,
   "metadata": {},
   "outputs": [],
   "source": [
    "import sys\n",
    "sys.path.append(\"../itershap\")\n",
    "\n",
    "import pandas as pd\n",
    "\n",
    "from sklearn.datasets import load_breast_cancer\n",
    "from sklearn.model_selection import train_test_split\n",
    "from sklearn.ensemble import RandomForestClassifier\n",
    "from sklearn.metrics import accuracy_score\n",
    "\n",
    "from itershap import IterSHAP"
   ]
  },
  {
   "attachments": {},
   "cell_type": "markdown",
   "metadata": {},
   "source": [
    "### Load data and apply IterSHAP feature selection"
   ]
  },
  {
   "cell_type": "code",
   "execution_count": 4,
   "metadata": {},
   "outputs": [
    {
     "name": "stdout",
     "output_type": "stream",
     "text": [
      "(100, 30)\n"
     ]
    },
    {
     "name": "stderr",
     "output_type": "stream",
     "text": [
      "In the future `np.bool` will be defined as the corresponding NumPy scalar.\n"
     ]
    },
    {
     "ename": "AttributeError",
     "evalue": "module 'numpy' has no attribute 'bool'.\n`np.bool` was a deprecated alias for the builtin `bool`. To avoid this error in existing code, use `bool` by itself. Doing this will not modify any behavior and is safe. If you specifically wanted the numpy scalar type, use `np.bool_` here.\nThe aliases was originally deprecated in NumPy 1.20; for more details and guidance see the original release note at:\n    https://numpy.org/devdocs/release/1.20.0-notes.html#deprecations",
     "output_type": "error",
     "traceback": [
      "\u001b[1;31m---------------------------------------------------------------------------\u001b[0m",
      "\u001b[1;31mAttributeError\u001b[0m                            Traceback (most recent call last)",
      "Cell \u001b[1;32mIn[4], line 15\u001b[0m\n\u001b[0;32m     13\u001b[0m \u001b[39m# Create and fit IterSHAP using a RandomForestClassifier\u001b[39;00m\n\u001b[0;32m     14\u001b[0m itershap_fs \u001b[39m=\u001b[39m IterSHAP(RandomForestClassifier)\n\u001b[1;32m---> 15\u001b[0m itershap_fs\u001b[39m.\u001b[39;49mfit(X, y)\n\u001b[0;32m     17\u001b[0m \u001b[39m# Transform the input data to only include selected features and print its shape\u001b[39;00m\n\u001b[0;32m     18\u001b[0m X \u001b[39m=\u001b[39m itershap_fs\u001b[39m.\u001b[39mtransform()\n",
      "File \u001b[1;32mc:\\Users\\f.vanmourik\\Documents\\itershap\\examples\\../itershap\\itershap.py:175\u001b[0m, in \u001b[0;36mIterSHAP.fit\u001b[1;34m(self, X, y)\u001b[0m\n\u001b[0;32m    173\u001b[0m nr_features \u001b[39m=\u001b[39m \u001b[39mself\u001b[39m\u001b[39m.\u001b[39mX_train\u001b[39m.\u001b[39mshape[\u001b[39m1\u001b[39m]\n\u001b[0;32m    174\u001b[0m \u001b[39mwhile\u001b[39;00m nr_features \u001b[39m>\u001b[39m \u001b[39m0\u001b[39m:\n\u001b[1;32m--> 175\u001b[0m     \u001b[39mself\u001b[39m, nr_features \u001b[39m=\u001b[39m \u001b[39mself\u001b[39;49m\u001b[39m.\u001b[39;49mselect_features(nr_features, LOWER_LIMIT)\n\u001b[0;32m    177\u001b[0m \u001b[39m# Select option with highest accuracy\u001b[39;00m\n\u001b[0;32m    178\u001b[0m CURR_BEST_NR_FEATURES \u001b[39m=\u001b[39m \u001b[39msorted\u001b[39m(\u001b[39mself\u001b[39m\u001b[39m.\u001b[39mresults_log, key\u001b[39m=\u001b[39m\u001b[39mself\u001b[39m\u001b[39m.\u001b[39mresults_log\u001b[39m.\u001b[39mget, reverse\u001b[39m=\u001b[39m\u001b[39mTrue\u001b[39;00m)[\u001b[39m0\u001b[39m]\n",
      "File \u001b[1;32mc:\\Users\\f.vanmourik\\Documents\\itershap\\examples\\../itershap\\itershap.py:115\u001b[0m, in \u001b[0;36mIterSHAP.select_features\u001b[1;34m(self, nr_features, LOWER_LIMIT)\u001b[0m\n\u001b[0;32m    112\u001b[0m nr_features \u001b[39m=\u001b[39m \u001b[39mround\u001b[39m((nr_features \u001b[39m+\u001b[39m LOWER_LIMIT)\u001b[39m*\u001b[39m\u001b[39mself\u001b[39m\u001b[39m.\u001b[39mstep_size)\n\u001b[0;32m    114\u001b[0m \u001b[39m# Select features for next iteration\u001b[39;00m\n\u001b[1;32m--> 115\u001b[0m selected_features \u001b[39m=\u001b[39m \u001b[39mself\u001b[39;49m\u001b[39m.\u001b[39;49mget_shap_important_features(clf)\n\u001b[0;32m    116\u001b[0m selected_features \u001b[39m=\u001b[39m selected_features\u001b[39m.\u001b[39mindex\u001b[39m.\u001b[39mtolist()[:nr_features]\n\u001b[0;32m    117\u001b[0m \u001b[39mself\u001b[39m\u001b[39m.\u001b[39mselected_features_log[nr_features] \u001b[39m=\u001b[39m selected_features\n",
      "File \u001b[1;32mc:\\Users\\f.vanmourik\\Documents\\itershap\\examples\\../itershap\\itershap.py:89\u001b[0m, in \u001b[0;36mIterSHAP.get_shap_important_features\u001b[1;34m(self, clf)\u001b[0m\n\u001b[0;32m     87\u001b[0m \u001b[39mdef\u001b[39;00m \u001b[39mget_shap_important_features\u001b[39m(\u001b[39mself\u001b[39m, clf):\n\u001b[0;32m     88\u001b[0m     explainer \u001b[39m=\u001b[39m \u001b[39mself\u001b[39m\u001b[39m.\u001b[39mget_explainer(clf)\n\u001b[1;32m---> 89\u001b[0m     shap_test \u001b[39m=\u001b[39m explainer(\u001b[39mself\u001b[39;49m\u001b[39m.\u001b[39;49mX_shap)\n\u001b[0;32m     90\u001b[0m     shap_df \u001b[39m=\u001b[39m pd\u001b[39m.\u001b[39mDataFrame(shap_test\u001b[39m.\u001b[39mdata, columns\u001b[39m=\u001b[39mshap_test\u001b[39m.\u001b[39mfeature_names, index\u001b[39m=\u001b[39m\u001b[39mself\u001b[39m\u001b[39m.\u001b[39mX_shap\u001b[39m.\u001b[39mindex)\n\u001b[0;32m     91\u001b[0m     sorted_importances \u001b[39m=\u001b[39m shap_df\u001b[39m.\u001b[39mapply(np\u001b[39m.\u001b[39mabs)\u001b[39m.\u001b[39mmean()\u001b[39m.\u001b[39msort_values(ascending\u001b[39m=\u001b[39m\u001b[39mFalse\u001b[39;00m)\n",
      "File \u001b[1;32mc:\\Users\\f.vanmourik\\Documents\\itershap\\.venv\\lib\\site-packages\\shap\\explainers\\_tree.py:217\u001b[0m, in \u001b[0;36mTree.__call__\u001b[1;34m(self, X, y, interactions, check_additivity)\u001b[0m\n\u001b[0;32m    214\u001b[0m     feature_names \u001b[39m=\u001b[39m \u001b[39mgetattr\u001b[39m(\u001b[39mself\u001b[39m, \u001b[39m\"\u001b[39m\u001b[39mdata_feature_names\u001b[39m\u001b[39m\"\u001b[39m, \u001b[39mNone\u001b[39;00m)\n\u001b[0;32m    216\u001b[0m \u001b[39mif\u001b[39;00m \u001b[39mnot\u001b[39;00m interactions:\n\u001b[1;32m--> 217\u001b[0m     v \u001b[39m=\u001b[39m \u001b[39mself\u001b[39;49m\u001b[39m.\u001b[39;49mshap_values(X, y\u001b[39m=\u001b[39;49my, from_call\u001b[39m=\u001b[39;49m\u001b[39mTrue\u001b[39;49;00m, check_additivity\u001b[39m=\u001b[39;49mcheck_additivity, approximate\u001b[39m=\u001b[39;49m\u001b[39mself\u001b[39;49m\u001b[39m.\u001b[39;49mapproximate)\n\u001b[0;32m    218\u001b[0m     \u001b[39mif\u001b[39;00m \u001b[39mtype\u001b[39m(v) \u001b[39mis\u001b[39;00m \u001b[39mlist\u001b[39m:\n\u001b[0;32m    219\u001b[0m         v \u001b[39m=\u001b[39m np\u001b[39m.\u001b[39mstack(v, axis\u001b[39m=\u001b[39m\u001b[39m-\u001b[39m\u001b[39m1\u001b[39m) \u001b[39m# put outputs at the end\u001b[39;00m\n",
      "File \u001b[1;32mc:\\Users\\f.vanmourik\\Documents\\itershap\\.venv\\lib\\site-packages\\shap\\explainers\\_tree.py:384\u001b[0m, in \u001b[0;36mTree.shap_values\u001b[1;34m(self, X, y, tree_limit, approximate, check_additivity, from_call)\u001b[0m\n\u001b[0;32m    380\u001b[0m             \u001b[39mself\u001b[39m\u001b[39m.\u001b[39massert_additivity(out, model_output_vals)\n\u001b[0;32m    382\u001b[0m         \u001b[39mreturn\u001b[39;00m out\n\u001b[1;32m--> 384\u001b[0m X, y, X_missing, flat_output, tree_limit, check_additivity \u001b[39m=\u001b[39m \u001b[39mself\u001b[39;49m\u001b[39m.\u001b[39;49m_validate_inputs(X, y,\n\u001b[0;32m    385\u001b[0m                                                                                    tree_limit,\n\u001b[0;32m    386\u001b[0m                                                                                    check_additivity)\n\u001b[0;32m    387\u001b[0m transform \u001b[39m=\u001b[39m \u001b[39mself\u001b[39m\u001b[39m.\u001b[39mmodel\u001b[39m.\u001b[39mget_transform()\n\u001b[0;32m    389\u001b[0m \u001b[39m# run the core algorithm using the C extension\u001b[39;00m\n",
      "File \u001b[1;32mc:\\Users\\f.vanmourik\\Documents\\itershap\\.venv\\lib\\site-packages\\shap\\explainers\\_tree.py:250\u001b[0m, in \u001b[0;36mTree._validate_inputs\u001b[1;34m(self, X, y, tree_limit, check_additivity)\u001b[0m\n\u001b[0;32m    248\u001b[0m \u001b[39mif\u001b[39;00m X\u001b[39m.\u001b[39mdtype \u001b[39m!=\u001b[39m \u001b[39mself\u001b[39m\u001b[39m.\u001b[39mmodel\u001b[39m.\u001b[39minput_dtype:\n\u001b[0;32m    249\u001b[0m     X \u001b[39m=\u001b[39m X\u001b[39m.\u001b[39mastype(\u001b[39mself\u001b[39m\u001b[39m.\u001b[39mmodel\u001b[39m.\u001b[39minput_dtype)\n\u001b[1;32m--> 250\u001b[0m X_missing \u001b[39m=\u001b[39m np\u001b[39m.\u001b[39misnan(X, dtype\u001b[39m=\u001b[39mnp\u001b[39m.\u001b[39;49mbool)\n\u001b[0;32m    251\u001b[0m \u001b[39massert\u001b[39;00m \u001b[39misinstance\u001b[39m(X, np\u001b[39m.\u001b[39mndarray), \u001b[39m\"\u001b[39m\u001b[39mUnknown instance type: \u001b[39m\u001b[39m\"\u001b[39m \u001b[39m+\u001b[39m \u001b[39mstr\u001b[39m(\u001b[39mtype\u001b[39m(X))\n\u001b[0;32m    252\u001b[0m \u001b[39massert\u001b[39;00m \u001b[39mlen\u001b[39m(X\u001b[39m.\u001b[39mshape) \u001b[39m==\u001b[39m \u001b[39m2\u001b[39m, \u001b[39m\"\u001b[39m\u001b[39mPassed input data matrix X must have 1 or 2 dimensions!\u001b[39m\u001b[39m\"\u001b[39m\n",
      "File \u001b[1;32mc:\\Users\\f.vanmourik\\Documents\\itershap\\.venv\\lib\\site-packages\\numpy\\__init__.py:305\u001b[0m, in \u001b[0;36m__getattr__\u001b[1;34m(attr)\u001b[0m\n\u001b[0;32m    300\u001b[0m     warnings\u001b[39m.\u001b[39mwarn(\n\u001b[0;32m    301\u001b[0m         \u001b[39mf\u001b[39m\u001b[39m\"\u001b[39m\u001b[39mIn the future `np.\u001b[39m\u001b[39m{\u001b[39;00mattr\u001b[39m}\u001b[39;00m\u001b[39m` will be defined as the \u001b[39m\u001b[39m\"\u001b[39m\n\u001b[0;32m    302\u001b[0m         \u001b[39m\"\u001b[39m\u001b[39mcorresponding NumPy scalar.\u001b[39m\u001b[39m\"\u001b[39m, \u001b[39mFutureWarning\u001b[39;00m, stacklevel\u001b[39m=\u001b[39m\u001b[39m2\u001b[39m)\n\u001b[0;32m    304\u001b[0m \u001b[39mif\u001b[39;00m attr \u001b[39min\u001b[39;00m __former_attrs__:\n\u001b[1;32m--> 305\u001b[0m     \u001b[39mraise\u001b[39;00m \u001b[39mAttributeError\u001b[39;00m(__former_attrs__[attr])\n\u001b[0;32m    307\u001b[0m \u001b[39m# Importing Tester requires importing all of UnitTest which is not a\u001b[39;00m\n\u001b[0;32m    308\u001b[0m \u001b[39m# cheap import Since it is mainly used in test suits, we lazy import it\u001b[39;00m\n\u001b[0;32m    309\u001b[0m \u001b[39m# here to save on the order of 10 ms of import time for most users\u001b[39;00m\n\u001b[0;32m    310\u001b[0m \u001b[39m#\u001b[39;00m\n\u001b[0;32m    311\u001b[0m \u001b[39m# The previous way Tester was imported also had a side effect of adding\u001b[39;00m\n\u001b[0;32m    312\u001b[0m \u001b[39m# the full `numpy.testing` namespace\u001b[39;00m\n\u001b[0;32m    313\u001b[0m \u001b[39mif\u001b[39;00m attr \u001b[39m==\u001b[39m \u001b[39m'\u001b[39m\u001b[39mtesting\u001b[39m\u001b[39m'\u001b[39m:\n",
      "\u001b[1;31mAttributeError\u001b[0m: module 'numpy' has no attribute 'bool'.\n`np.bool` was a deprecated alias for the builtin `bool`. To avoid this error in existing code, use `bool` by itself. Doing this will not modify any behavior and is safe. If you specifically wanted the numpy scalar type, use `np.bool_` here.\nThe aliases was originally deprecated in NumPy 1.20; for more details and guidance see the original release note at:\n    https://numpy.org/devdocs/release/1.20.0-notes.html#deprecations"
     ]
    }
   ],
   "source": [
    "# Load data from SK Learn's datasets\n",
    "X, y = load_breast_cancer(return_X_y=True)\n",
    "\n",
    "# Only use 100 samples, remainder for testing\n",
    "X, X_not_used, y, y_not_used = train_test_split(X, y, train_size=100)\n",
    "\n",
    "# Create a data copy to test model performance without feature selection \n",
    "X_without_fs = pd.DataFrame(X)\n",
    "\n",
    "# Check the current shape of the dataset\n",
    "print(X.shape)\n",
    "\n",
    "# Create and fit IterSHAP using a RandomForestClassifier\n",
    "itershap_fs = IterSHAP(RandomForestClassifier)\n",
    "itershap_fs.fit(X, y)\n",
    "\n",
    "# Transform the input data to only include selected features and print its shape\n",
    "X = itershap_fs.transform()\n",
    "print(X.shape)"
   ]
  },
  {
   "attachments": {},
   "cell_type": "markdown",
   "metadata": {},
   "source": [
    "### Perform classification"
   ]
  },
  {
   "attachments": {},
   "cell_type": "markdown",
   "metadata": {},
   "source": [
    "#### Without feature selection"
   ]
  },
  {
   "cell_type": "code",
   "execution_count": null,
   "metadata": {},
   "outputs": [],
   "source": [
    "X_train, X_test, y_train, y_test = train_test_split(X_without_fs, y, test_size=0.25)\n",
    "\n",
    "clf = RandomForestClassifier()\n",
    "clf.fit(X_train, y_train)\n",
    "y_pred = clf.predict(X_test)\n",
    "\n",
    "accuracy = accuracy_score(y_pred, y_test)\n",
    "print(accuracy)"
   ]
  },
  {
   "attachments": {},
   "cell_type": "markdown",
   "metadata": {},
   "source": [
    "#### With feature selection"
   ]
  },
  {
   "cell_type": "code",
   "execution_count": null,
   "metadata": {},
   "outputs": [],
   "source": [
    "X_train, X_test, y_train, y_test = train_test_split(X, y, test_size=0.25)\n",
    "\n",
    "clf = RandomForestClassifier()\n",
    "clf.fit(X_train, y_train)\n",
    "y_pred = clf.predict(X_test)\n",
    "\n",
    "accuracy = accuracy_score(y_pred, y_test)\n",
    "print(accuracy)\n"
   ]
  }
 ],
 "metadata": {
  "kernelspec": {
   "display_name": ".venv",
   "language": "python",
   "name": "python3"
  },
  "language_info": {
   "codemirror_mode": {
    "name": "ipython",
    "version": 3
   },
   "file_extension": ".py",
   "mimetype": "text/x-python",
   "name": "python",
   "nbconvert_exporter": "python",
   "pygments_lexer": "ipython3",
   "version": "3.10.10"
  },
  "orig_nbformat": 4
 },
 "nbformat": 4,
 "nbformat_minor": 2
}
