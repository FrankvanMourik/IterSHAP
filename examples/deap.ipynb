{
  "cells": [
    {
      "cell_type": "markdown",
      "metadata": {},
      "source": [
        "# IterSHAP on features extracted from DEAP dataset\n",
        "The features used in this Notebook are extracted from the 'data_preprocessed_matlab' datasets of the DEAP dataset. The files needed to run this Notebook can be created by running 'feature_extraction.m'\n",
        "\n",
        "Data source: https://www.eecs.qmul.ac.uk/mmv/datasets/deap/\n",
        "\n",
        "Matlab script origin: https://github.com/Daisybiubiubiu/EEG-Emotion-Recognition/blob/master/CWT/cwt_process.m"
      ]
    },
    {
      "cell_type": "markdown",
      "metadata": {
        "colab_type": "text",
        "id": "N0xerPl6IdLC"
      },
      "source": [
        "## Installation & Imports"
      ]
    },
    {
      "cell_type": "code",
      "execution_count": null,
      "metadata": {
        "colab": {},
        "colab_type": "code",
        "id": "bgbkZzkJSozW"
      },
      "outputs": [],
      "source": [
        "# Uncomment the lines below to install the needed packages.\n",
        "# %pip install pandas\n",
        "# %pip install matplotlib\n",
        "# %pip install torch\n",
        "# %pip install scikit-learn\n",
        "# %pip install itershap"
      ]
    },
    {
      "cell_type": "code",
      "execution_count": null,
      "metadata": {
        "colab": {},
        "colab_type": "code",
        "id": "vbhLL1q6p25J"
      },
      "outputs": [],
      "source": [
        "import pandas as pd\n",
        "import numpy as np\n",
        "import time\n",
        "\n",
        "from sklearn.metrics import accuracy_score\n",
        "from sklearn.model_selection import train_test_split\n",
        "from sklearn.ensemble import RandomForestClassifier\n",
        "\n",
        "from itershap import IterSHAP\n",
        "from tqdm import tqdm"
      ]
    },
    {
      "cell_type": "markdown",
      "metadata": {},
      "source": [
        "## Data preprocessing"
      ]
    },
    {
      "cell_type": "markdown",
      "metadata": {},
      "source": [
        "### Load all the extracted data files and concatenate into one 2D DataFrame"
      ]
    },
    {
      "cell_type": "code",
      "execution_count": null,
      "metadata": {
        "colab": {
          "base_uri": "https://localhost:8080/",
          "height": 52
        },
        "colab_type": "code",
        "id": "EGhlbcRctOcA",
        "outputId": "c7a6a2df-115b-4d36-a686-1493103beeb7"
      },
      "outputs": [],
      "source": [
        "frameNum = 60\n",
        "channels = 32\n",
        "participants = 32\n",
        "videos = 40\n",
        "\n",
        "col_names_per_channel = ['time_mean', 'time_median', 'time_std', 'time_iqr', 'time_max', 'time_min', 'time_unknown', \n",
        "'freq_mean', 'freq_median', 'freq_std', 'freq_iqr', 'freq_max', 'freq_min', 'freq_unknown']\n",
        "\n",
        "new_cols = ['channel_'+str(i+1)+'_'+col_name for i in range(channels) for col_name in col_names_per_channel]\n",
        "\n",
        "# load data\n",
        "dfs = pd.DataFrame(columns=new_cols)\n",
        "for i in range(1,participants+1):\n",
        "  for j in range(1,videos+1):\n",
        "    filename = './new_data/participant%dvideo%d.txt'%(i,j)\n",
        "    cols = [i for i in range(frameNum)]\n",
        "    df = pd.read_csv(filename, header = None, usecols = cols, delimiter=',')   \n",
        "    df = df.transpose()\n",
        "    # print(new_cols)\n",
        "    df.columns = new_cols\n",
        "    # print(df.head())\n",
        "    dfs = pd.concat([dfs, df])\n",
        "    \n",
        "print('dataLoaded:')\n",
        "print(dfs.shape)\n",
        "# print(dfs.head())"
      ]
    },
    {
      "cell_type": "markdown",
      "metadata": {},
      "source": [
        "### Load the labels and make a binary classification"
      ]
    },
    {
      "cell_type": "code",
      "execution_count": null,
      "metadata": {
        "colab": {
          "base_uri": "https://localhost:8080/",
          "height": 35
        },
        "colab_type": "code",
        "id": "383y2IXneNRI",
        "outputId": "66ad41fa-2034-44c2-bb5e-ff9798e7e17b"
      },
      "outputs": [],
      "source": [
        "# load label\n",
        "cols = ['valence', 'arousal', 'dominance', 'liking']\n",
        "label_df = pd.read_csv('./label.txt',\n",
        "    usecols = [i for i in range(4)], header=None, delimiter=',' )\n",
        "print(label_df.shape)\n",
        "label_df.columns = cols\n",
        "label_df[label_df<5] = 0\n",
        "label_df[label_df>=5] = 1\n"
      ]
    },
    {
      "cell_type": "markdown",
      "metadata": {},
      "source": [
        "#### Repeat the arousal label 60 times to match DataFrame dimension"
      ]
    },
    {
      "cell_type": "code",
      "execution_count": null,
      "metadata": {
        "colab": {
          "base_uri": "https://localhost:8080/",
          "height": 35
        },
        "colab_type": "code",
        "id": "hjwXV-gLeWSd",
        "outputId": "6be8e8d8-7bdc-4db4-dd53-16d9ba557062"
      },
      "outputs": [],
      "source": [
        "# arousal\n",
        "label = label_df['arousal'].astype(int).values\n",
        "label = np.repeat(label,60)\n",
        "print(label.shape)"
      ]
    },
    {
      "cell_type": "code",
      "execution_count": null,
      "metadata": {},
      "outputs": [],
      "source": [
        "X = dfs\n",
        "y = label\n",
        "X_orig, y_orig = X, y\n",
        "print(X.shape)\n",
        "print(y.shape)"
      ]
    },
    {
      "cell_type": "markdown",
      "metadata": {},
      "source": [
        "## Experiment setup"
      ]
    },
    {
      "cell_type": "code",
      "execution_count": null,
      "metadata": {
        "colab": {
          "base_uri": "https://localhost:8080/",
          "height": 1000
        },
        "colab_type": "code",
        "id": "qPejyQYagI9Y",
        "outputId": "9b02c3fe-4aaf-47b2-b0af-7512de1d5d46"
      },
      "outputs": [],
      "source": [
        "PERC_OPTIONS = [1.00, 0.50, 0.25, 0.10, 0.05, 0.025, 0.01, 0.005, 0.0025, 0.001]\n",
        "nr_runs_per_ex = 5\n",
        "nr_ft_selected = []\n",
        "accuracies = []\n",
        "durations = []\n",
        "\n",
        "for i in tqdm(range(nr_runs_per_ex), desc=\"Nr. of iterations\", position=0):\n",
        "    for j in tqdm(range(len(PERC_OPTIONS)), desc=\"Percentage options\", position=1, leave=False):\n",
        "        start_time = time.time()\n",
        "        PERC = PERC_OPTIONS[j]\n",
        "        if PERC < 1.00:\n",
        "            X, X_test, y, y_test = train_test_split(X_orig, y_orig, train_size=PERC, random_state=20)\n",
        "            X_train, X_unused, y_train, y_unused = train_test_split(X, y, test_size=0.1, random_state=1)\n",
        "        else:\n",
        "            X_train, X_test, y_train, y_test = train_test_split(X_orig, y_orig, test_size=0.1, random_state=1)\n",
        "        \n",
        "        # print(\"Starting with IterSHAP\")\n",
        "        itershap_fs = IterSHAP()\n",
        "        itershap_fs.fit(X, y)\n",
        "        X_train = itershap_fs.transform(X_train)\n",
        "        X_test = itershap_fs.transform(X_test)\n",
        "        nr_ft_selected.append(X_train.shape[1])\n",
        "        # print(f\"Shape of X_train: {X_train.shape}\")\n",
        "        # print(f\"Shape of X_test: {X_test.shape}\")\n",
        "\n",
        "        # print(\"Starting with training model\")\n",
        "        clf = RandomForestClassifier()\n",
        "        clf.fit(X_train, y_train)\n",
        "        y_pred = clf.predict(X_test)\n",
        "\n",
        "        accuracy = accuracy_score(y_pred, y_test)\n",
        "        # print(accuracy)\n",
        "        accuracies.append(accuracy)\n",
        "        end_time = time.time()\n",
        "        durations.append(end_time-start_time)\n",
        "        # print(\"\\n\")\n",
        "    print(accuracies)"
      ]
    }
  ],
  "metadata": {
    "accelerator": "GPU",
    "colab": {
      "collapsed_sections": [],
      "name": "3d_cnn.ipynb",
      "provenance": []
    },
    "kernelspec": {
      "display_name": "Python 3",
      "name": "python3"
    },
    "language_info": {
      "codemirror_mode": {
        "name": "ipython",
        "version": 3
      },
      "file_extension": ".py",
      "mimetype": "text/x-python",
      "name": "python",
      "nbconvert_exporter": "python",
      "pygments_lexer": "ipython3",
      "version": "3.10.12"
    }
  },
  "nbformat": 4,
  "nbformat_minor": 0
}
