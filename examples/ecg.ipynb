{
 "cells": [
  {
   "attachments": {},
   "cell_type": "markdown",
   "metadata": {},
   "source": [
    "# ECG classification"
   ]
  },
  {
   "attachments": {},
   "cell_type": "markdown",
   "metadata": {},
   "source": [
    "## Imports"
   ]
  },
  {
   "cell_type": "code",
   "execution_count": 2,
   "metadata": {},
   "outputs": [],
   "source": [
    "import sys\n",
    "sys.path.append(\"../itershap\")\n",
    "\n",
    "import pandas as pd\n",
    "import numpy as np\n",
    "\n",
    "from sklearn.model_selection import train_test_split\n",
    "from sklearn.ensemble import RandomForestClassifier\n",
    "from sklearn.metrics import accuracy_score\n",
    "\n",
    "from itershap import IterSHAP"
   ]
  },
  {
   "attachments": {},
   "cell_type": "markdown",
   "metadata": {},
   "source": [
    "## Get ECG data"
   ]
  },
  {
   "cell_type": "code",
   "execution_count": 6,
   "metadata": {},
   "outputs": [],
   "source": [
    "ecg_columns = ['bin '+str(i) + '-'+str(i+50) for i in range(200, 1700, 50)]\n",
    "# print(ecg_columns)\n",
    "\n",
    "\n",
    "def balance_binary_dataset(X, y):\n",
    "    # Calculate class distribution\n",
    "    class_counts = np.bincount(y)\n",
    "\n",
    "    # Identify majority class\n",
    "    majority_class = 0\n",
    "    minority_class = 1\n",
    "\n",
    "    # Randomly downsample majority class\n",
    "    minority_class_count = class_counts[1 - majority_class]\n",
    "    majority_class_indices = np.where(y == majority_class)[0]\n",
    "    downsampled_indices = np.random.choice(\n",
    "        majority_class_indices, size=int(minority_class_count), replace=False\n",
    "    )\n",
    "\n",
    "    # Combine downsampled majority class samples with all minority class samples\n",
    "    downsampled_X = np.concatenate((X.iloc[downsampled_indices], X.iloc[y == minority_class]), axis=0)\n",
    "    downsampled_X = pd.DataFrame(downsampled_X, columns=ecg_columns)\n",
    "\n",
    "    downsampled_y = np.concatenate((y[downsampled_indices], y[y == minority_class]), axis=0)\n",
    "\n",
    "    return downsampled_X, downsampled_y\n",
    "\n",
    "\n",
    "def load_ecg_data(PERC_DATA_USED):\n",
    "    filepath = \"../data/ecg/Preprocessed_AFData.csv\"\n",
    "    f = open(filepath)\n",
    "    attributes=f.readline()\n",
    "    X = []\n",
    "    y = []\n",
    "    for line in f:\n",
    "        line = line.rstrip().split(',')\n",
    "        l = [float(i) for i in line]\n",
    "        X.append(l[:-1])\n",
    "        y.append(l[-1])\n",
    "\n",
    "    X = np.asarray(X)\n",
    "    y = np.asarray([round(k) for k in y])\n",
    "    X = pd.DataFrame(X, columns=ecg_columns)\n",
    "\n",
    "    # Balance the dataset and return\n",
    "    X, y = balance_binary_dataset(X, y)\n",
    "\n",
    "    X, X_not_used, y, y_not_used = train_test_split(X, y, train_size=PERC_DATA_USED)\n",
    "\n",
    "    return X, y\n",
    "\n",
    "# load_ecg_data(0.01)"
   ]
  },
  {
   "attachments": {},
   "cell_type": "markdown",
   "metadata": {},
   "source": [
    "## Run IterSHAP"
   ]
  },
  {
   "cell_type": "code",
   "execution_count": null,
   "metadata": {},
   "outputs": [],
   "source": [
    "# Change this percentage to use more are less data\n",
    "PERC_DATA_USED = 0.01\n",
    "\n",
    "# Load data from the data folder\n",
    "X, y = load_ecg_data(PERC_DATA_USED)\n",
    "\n",
    "# Create a data copy to test model performance without feature selection \n",
    "X_without_fs = pd.DataFrame(X)\n",
    "\n",
    "# Check the current shape of the dataset\n",
    "print(X.shape)\n",
    "\n",
    "# Create and fit IterSHAP using a RandomForestClassifier (default)\n",
    "itershap_fs = IterSHAP()\n",
    "itershap_fs.fit(X, y)\n",
    "\n",
    "# Transform the input data to only include selected features and print its shape\n",
    "X = itershap_fs.transform()\n",
    "print(X.shape)"
   ]
  },
  {
   "attachments": {},
   "cell_type": "markdown",
   "metadata": {},
   "source": [
    "## Run model with and without feature selection"
   ]
  },
  {
   "attachments": {},
   "cell_type": "markdown",
   "metadata": {},
   "source": [
    "#### Without feature selection"
   ]
  },
  {
   "cell_type": "code",
   "execution_count": null,
   "metadata": {},
   "outputs": [],
   "source": [
    "X_train, X_test, y_train, y_test = train_test_split(X_without_fs, y, test_size=0.25)\n",
    "\n",
    "clf = RandomForestClassifier()\n",
    "clf.fit(X_train, y_train)\n",
    "y_pred = clf.predict(X_test)\n",
    "\n",
    "accuracy = accuracy_score(y_pred, y_test)\n",
    "print(accuracy)"
   ]
  },
  {
   "attachments": {},
   "cell_type": "markdown",
   "metadata": {},
   "source": [
    "#### With feature selection"
   ]
  },
  {
   "cell_type": "code",
   "execution_count": null,
   "metadata": {},
   "outputs": [],
   "source": [
    "X_train, X_test, y_train, y_test = train_test_split(X, y, test_size=0.25)\n",
    "\n",
    "clf = RandomForestClassifier()\n",
    "clf.fit(X_train, y_train)\n",
    "y_pred = clf.predict(X_test)\n",
    "\n",
    "accuracy = accuracy_score(y_pred, y_test)\n",
    "print(accuracy)"
   ]
  }
 ],
 "metadata": {
  "kernelspec": {
   "display_name": ".venv",
   "language": "python",
   "name": "python3"
  },
  "language_info": {
   "codemirror_mode": {
    "name": "ipython",
    "version": 3
   },
   "file_extension": ".py",
   "mimetype": "text/x-python",
   "name": "python",
   "nbconvert_exporter": "python",
   "pygments_lexer": "ipython3",
   "version": "3.10.10"
  },
  "orig_nbformat": 4
 },
 "nbformat": 4,
 "nbformat_minor": 2
}
