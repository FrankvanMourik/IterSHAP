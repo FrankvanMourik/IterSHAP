{
 "cells": [
  {
   "attachments": {},
   "cell_type": "markdown",
   "metadata": {},
   "source": [
    "# Emotion classfication on DEAP EEG data\n",
    "Data source: https://www.eecs.qmul.ac.uk/mmv/datasets/deap/\n",
    "\n",
    "Preprocessed source: https://github.com/pratyakshajha/emotion-recognition-by-deap-dataset/tree/master/Scripts "
   ]
  },
  {
   "attachments": {},
   "cell_type": "markdown",
   "metadata": {},
   "source": [
    "## Imports"
   ]
  },
  {
   "cell_type": "code",
   "execution_count": 4,
   "metadata": {},
   "outputs": [],
   "source": [
    "import sys\n",
    "sys.path.append(\"../itershap\")\n",
    "\n",
    "import pandas as pd\n",
    "import numpy as np\n",
    "\n",
    "from sklearn.model_selection import train_test_split\n",
    "from sklearn.ensemble import RandomForestClassifier\n",
    "from sklearn.metrics import accuracy_score\n",
    "\n",
    "from itershap import IterSHAP"
   ]
  },
  {
   "attachments": {},
   "cell_type": "markdown",
   "metadata": {},
   "source": [
    "## Get preprocessed DEAP data"
   ]
  },
  {
   "cell_type": "code",
   "execution_count": 8,
   "metadata": {},
   "outputs": [],
   "source": [
    "# Data preprocessed using: SOURCE\n",
    "# Preprocessed tabular data stored in data/deap folder\n",
    "\n",
    "def load_deap_data(PERC_DP_USED):\n",
    "    filepath = \"../data/deap/SOURCE.csv\"\n",
    "    f = open(filepath)\n",
    "    attributes=f.readline()\n",
    "    X = []\n",
    "    y = []\n",
    "    for line in f:\n",
    "        line = line.rstrip().split(',')\n",
    "        l = [float(i) for i in line]\n",
    "        X.append(l[:-1])\n",
    "        y.append(l[-1])\n",
    "\n",
    "    X = np.asarray(X)\n",
    "    y = np.asarray([round(k-1) for k in y])\n",
    "    X = pd.DataFrame(X)\n",
    "\n",
    "    # Randomly select a portion of the datapoints, based on PERC_DP_USED parameter\n",
    "    if PERC_DP_USED < 1.0:\n",
    "      # If PERC_DP_USED == 1.0, then all DP will be used for the model\n",
    "      X, _, y, _ = train_test_split(X, y, train_size=PERC_DP_USED, random_state=20)\n",
    "\n",
    "    return X, y\n",
    "\n",
    "# load_deap_data(1.00)"
   ]
  },
  {
   "attachments": {},
   "cell_type": "markdown",
   "metadata": {},
   "source": [
    "## Run IterSHAP"
   ]
  },
  {
   "cell_type": "code",
   "execution_count": null,
   "metadata": {},
   "outputs": [],
   "source": [
    "PERC_DATA_USED = 0.01\n",
    "\n",
    "# Load data from the data folder\n",
    "X, y = load_deap_data(PERC_DATA_USED)\n",
    "\n",
    "# Create a data copy to test model performance without feature selection \n",
    "X_without_fs = pd.DataFrame(X)\n",
    "\n",
    "# Check the current shape of the dataset\n",
    "print(X.shape)\n",
    "\n",
    "# Create and fit IterSHAP using a RandomForestClassifier (default)\n",
    "itershap_fs = IterSHAP()\n",
    "itershap_fs.fit(X, y)\n",
    "\n",
    "# Transform the input data to only include selected features and print its shape\n",
    "X = itershap_fs.transform()\n",
    "print(X.shape)"
   ]
  },
  {
   "attachments": {},
   "cell_type": "markdown",
   "metadata": {},
   "source": [
    "## Run model with and without feature selection"
   ]
  },
  {
   "attachments": {},
   "cell_type": "markdown",
   "metadata": {},
   "source": [
    "#### Without feature selection"
   ]
  },
  {
   "cell_type": "code",
   "execution_count": null,
   "metadata": {},
   "outputs": [],
   "source": [
    "X_train, X_test, y_train, y_test = train_test_split(X_without_fs, y, test_size=0.25)\n",
    "\n",
    "clf = RandomForestClassifier()\n",
    "clf.fit(X_train, y_train)\n",
    "y_pred = clf.predict(X_test)\n",
    "\n",
    "accuracy = accuracy_score(y_pred, y_test)\n",
    "print(accuracy)"
   ]
  },
  {
   "attachments": {},
   "cell_type": "markdown",
   "metadata": {},
   "source": [
    "#### With feature selection"
   ]
  },
  {
   "cell_type": "code",
   "execution_count": null,
   "metadata": {},
   "outputs": [],
   "source": [
    "X_train, X_test, y_train, y_test = train_test_split(X, y, test_size=0.25)\n",
    "\n",
    "clf = RandomForestClassifier()\n",
    "clf.fit(X_train, y_train)\n",
    "y_pred = clf.predict(X_test)\n",
    "\n",
    "accuracy = accuracy_score(y_pred, y_test)\n",
    "print(accuracy)"
   ]
  }
 ],
 "metadata": {
  "kernelspec": {
   "display_name": ".venv",
   "language": "python",
   "name": "python3"
  },
  "language_info": {
   "codemirror_mode": {
    "name": "ipython",
    "version": 3
   },
   "file_extension": ".py",
   "mimetype": "text/x-python",
   "name": "python",
   "nbconvert_exporter": "python",
   "pygments_lexer": "ipython3",
   "version": "3.10.12"
  },
  "orig_nbformat": 4
 },
 "nbformat": 4,
 "nbformat_minor": 2
}
